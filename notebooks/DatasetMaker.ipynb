{
 "cells": [
  {
   "cell_type": "code",
   "execution_count": 1,
   "id": "d03ced5c",
   "metadata": {},
   "outputs": [],
   "source": [
    "import os\n",
    "import ctools\n",
    "import numpy as np\n",
    "import random\n",
    "import math\n",
    "from astropy.io import fits\n",
    "from lxml import etree\n",
    "\n",
    "models=os.path.join(\"..\", \"models\")\n",
    "data=os.path.join(\"..\", \"data\")"
   ]
  },
  {
   "cell_type": "code",
   "execution_count": 2,
   "id": "f2f6e438",
   "metadata": {},
   "outputs": [],
   "source": [
    "#creation of data directory\n",
    "if not os.path.isdir(data):\n",
    "    os.mkdir(data)\n",
    "    \n",
    "#creation of directories for all simulations \n",
    "#one source group3 simulation\n",
    "sourceSimulations=os.path.join(data, \"sourceSimulations\")\n",
    "if not os.path.isdir(sourceSimulations):\n",
    "    os.mkdir(sourceSimulations)\n",
    "#background simulation\n",
    "backgroundSimulations=os.path.join(data, \"backgroundSimulations\")\n",
    "if not os.path.isdir(backgroundSimulations):\n",
    "    os.mkdir(backgroundSimulations)\n",
    "#two sources simulation\n",
    "twoSourcesSimulations=os.path.join(data, \"twoSourcesSimulations\")\n",
    "if not os.path.isdir(twoSourcesSimulations):\n",
    "    os.mkdir(twoSourcesSimulations)\n",
    "    \n",
    "#creation for directories for all models \n",
    "#one source group3 model\n",
    "sourceModels=os.path.join(models, \"sourceModels\")    \n",
    "if not os.path.isdir(sourceModels):\n",
    "    os.mkdir(sourceModels)\n",
    "#background model\n",
    "backgroundModels=os.path.join(\"..\", \"models\", \"backgroundModels\")\n",
    "if not os.path.isdir(backgroundModels):\n",
    "    os.mkdir(backgroundModels)\n",
    "#two sources model\n",
    "twoSourcesModels=os.path.join(\"..\", \"models\", \"twoSourcesModels\")\n",
    "if not os.path.isdir(twoSourcesModels):\n",
    "    os.mkdir(twoSourcesModels)"
   ]
  },
  {
   "cell_type": "code",
   "execution_count": 3,
   "id": "acdee4cc",
   "metadata": {},
   "outputs": [],
   "source": [
    "def run_ctobssim(model, output,pointing = (83.6331, 22.5145), energy=(0.03, 5), time=(0, 1200), fov=5, caldb='prod3b-v2', irf='South_z40_0.5h', seed=1):\n",
    "    sim = ctools.ctobssim()\n",
    "    sim[\"inmodel\"] = model #inserisce un modello pre-esistente all'interno del tool di generazione mappe\n",
    "    sim[\"outevents\"] = output #estrae una mappa creata in estensione .fits\n",
    "    sim[\"caldb\"] = caldb #calibration database, inserito nella fase di configurazione come zip\n",
    "    sim[\"irf\"] = irf #Instrumental response function, mappa tra flusso di fotoni in ingresso e gli eventi detected\n",
    "    sim[\"ra\"] = pointing[0] #Right Ascension of CTA pointing (dove punta nello spazio il telescopio)\n",
    "    sim[\"dec\"] = pointing[1] #Declination of CTA pointing (dove punta nello spazio il telescopio)\n",
    "    sim[\"rad\"] = fov #field of view, simulation cone radius, 5 rad mi pare un botto\n",
    "    sim[\"tmin\"] = time[0] #start time\n",
    "    sim[\"tmax\"] = time[1] #stop time of the exposure\n",
    "    sim[\"emin\"] = energy[0] #Lower energy limit of simulated events (in TeV).\n",
    "    sim[\"emax\"] = energy[1] #Upper energy limit of simulated events (in TeV).\n",
    "    sim[\"seed\"] = seed #random number generator for the simulations with a seed value provided by the hidden seed parameter\n",
    "    sim.execute()\n",
    "    # if you want to run in memory:\n",
    "    #sim.run()\n",
    "    \n",
    "def run_skymap(obs, output, energy=(0.03, 5), roi=5, caldb='prod3b-v2', irf='North_z20_0.5h', wbin=0.02):\n",
    "    nbin = int(roi*2/wbin)\n",
    "    skymap = ctools.ctskymap()\n",
    "    skymap['inobs'] = obs\n",
    "    skymap['outmap'] = output\n",
    "    skymap['irf'] = irf \n",
    "    skymap['caldb'] = caldb #calibration database, inserito nella fase di configurazione come zip\n",
    "    skymap['emin'] = energy[0]\n",
    "    skymap['emax'] = energy[1]\n",
    "    skymap['usepnt'] = True #use pointing\n",
    "    skymap['nxpix'] = nbin #Size of the Right Ascension / Galactic longitude axis (in pixels).\n",
    "    skymap['nypix'] = nbin #Size of the Declination / Galactic latitude axis (in pixels).\n",
    "    skymap['binsz'] = wbin #Pixel size (in degrees/pixel).\n",
    "    skymap['bkgsubtract'] = 'IRF' #da testare 'NONE' o 'IRF'\n",
    "    skymap.execute()\n",
    "    # if you want to run in memory:\n",
    "    #sim.run()\n",
    "    \n",
    "def truncate(num, n):\n",
    "    integer = int(num * (10**n))/(10**n)\n",
    "    return float(integer)"
   ]
  },
  {
   "cell_type": "code",
   "execution_count": 4,
   "id": "5cbb9b35",
   "metadata": {},
   "outputs": [],
   "source": [
    "def modify_source_position(ra, dec, index):\n",
    "    tree = etree.parse(os.path.join(models, \"group3.xml\"))\n",
    "    root = tree.getroot()\n",
    "    Ra = root[0][1][0]\n",
    "    Ra.set(\"value\", str(ra))\n",
    "    Dec = root[0][1][1]\n",
    "    Dec.set(\"value\", str(dec))\n",
    "    et = etree.ElementTree(root)\n",
    "    name = os.path.join(sourceModels, \"group3_\" + str(index) + \".xml\") \n",
    "    et.write(name, pretty_print=True)\n",
    "        \n",
    "def modify_two_source_position(ra, dec, index, ra2, dec2):\n",
    "    #find the second point in the xml file \n",
    "    tree = etree.parse(os.path.join(models, \"crab2sources.xml\"))\n",
    "    root = tree.getroot()\n",
    "    Ra = root[0][1][0]\n",
    "    Ra.set(\"value\", str(ra))\n",
    "    Dec = root[0][1][1]\n",
    "    Dec.set(\"value\", str(dec))\n",
    "    #modify the value and write the model\n",
    "    Ra2 = root[1][1][0]\n",
    "    Ra2.set(\"value\", str(ra2))\n",
    "    Dec2 = root[1][1][1]\n",
    "    Dec2.set(\"value\", str(dec2))\n",
    "    et = etree.ElementTree(root)\n",
    "    name = os.path.join(twoSourcesModels, \"crab2sources_\" + str(index) + \".xml\")\n",
    "    et.write(name, pretty_print=True)\n",
    "        "
   ]
  },
  {
   "cell_type": "code",
   "execution_count": 5,
   "id": "63cac5a5",
   "metadata": {
    "scrolled": true
   },
   "outputs": [],
   "source": [
    "def create_new_model(i, pointing, maxAng=4.5, twoPoints=\"false\"):\n",
    "    \n",
    "    #random with Module and Angle \n",
    "    angle = random.random() *2 *math.pi\n",
    "    cos = math.cos(angle)\n",
    "    sin = math.sin(angle)\n",
    "    mod = random.random()*maxAng\n",
    "\n",
    "    ra = round(pointing[0] + (sin*mod),4)\n",
    "    dec = round(pointing[1] + (cos*mod),4)\n",
    "    \n",
    "    if(twoPoints == \"true\"):\n",
    "        ipo = 0\n",
    "        while(ipo<2): #to modify ------------------------------------------\n",
    "            angle = random.random() *2 *math.pi\n",
    "            cos = math.cos(angle)\n",
    "            sin = math.sin(angle)\n",
    "            mod = random.random()*maxAng\n",
    "            ra2 = round(pointing[0] + (sin*mod),4)\n",
    "            dec2 = round(pointing[1] + (cos*mod),4)\n",
    "            ipo = ((ra-ra2)**2 + (dec-dec2)**2)**1/2\n",
    "        modify_two_source_position(ra,dec,i,ra2,dec2)\n",
    "        \n",
    "    #richiamiamo la modifica e creazione di nuovi modelli coi parametri genrati pocanzi\n",
    "    modify_source_position(ra,dec,i)"
   ]
  },
  {
   "cell_type": "markdown",
   "id": "b7e76c29",
   "metadata": {},
   "source": [
    "## Source simulation and map\n",
    "\n",
    "In this step we are going to create models and fits map based on the model given (group3.xml)"
   ]
  },
  {
   "cell_type": "code",
   "execution_count": 6,
   "id": "2af7afaf",
   "metadata": {},
   "outputs": [],
   "source": [
    "count=1\n",
    "pointing = (83.6331, 22.5145)\n",
    "for i in range(count):\n",
    "    create_new_model(i,pointing)\n",
    "    obs = os.path.join(sourceModels, \"group3_sim.fits\")\n",
    "    model = os.path.join(sourceModels, \"group3_\" + str(i) + \".xml\") \n",
    "    run_ctobssim(model=model, output=obs)\n",
    "    run_skymap(obs=obs, output=os.path.join(sourceSimulations, \"group3_sky_\"+ str(i) + \".fits\"))\n",
    "os.remove(obs)"
   ]
  },
  {
   "cell_type": "markdown",
   "id": "701b5d02",
   "metadata": {},
   "source": [
    "## Background simulation and map\n",
    "\n",
    "in this step we are going to create background simulation"
   ]
  },
  {
   "cell_type": "code",
   "execution_count": 7,
   "id": "a0a944ec",
   "metadata": {},
   "outputs": [],
   "source": [
    "count=1\n",
    "pointing = (83.6331, 22.5145)\n",
    "for i in range(count):\n",
    "    model = os.path.join(models,\"bkg_irf.xml\")\n",
    "    obs = os.path.join(backgroundModels,\"bkg_test_sim.fits\")\n",
    "    run_ctobssim(model=model, output=obs,seed= int(random.random()*100))\n",
    "    run_skymap(obs=obs, output=os.path.join(backgroundSimulations,\"bkg_test_sky_\" + str(i) + \".fits\"))\n",
    "os.remove(obs)"
   ]
  },
  {
   "cell_type": "markdown",
   "id": "f6abe2cf",
   "metadata": {},
   "source": [
    "## Two sources simulation and map\n",
    "In this step we are going to create models and fits map based on the model given (crab2sources.xml)"
   ]
  },
  {
   "cell_type": "code",
   "execution_count": 8,
   "id": "d8d33962",
   "metadata": {},
   "outputs": [],
   "source": [
    "count=1\n",
    "pointing = (83.6331, 22.5145)\n",
    "for i in range(count):\n",
    "    create_new_model(i,pointing,twoPoints=\"true\")\n",
    "    obs = os.path.join(twoSourcesModels, \"crab2sources_sim.fits\")\n",
    "    model = os.path.join(twoSourcesModels, \"crab2sources_\" + str(i) + \".xml\") \n",
    "    run_ctobssim(model=model, output=obs)\n",
    "    run_skymap(obs=obs, output=os.path.join(twoSourcesSimulations, \"crab2sources_\"+ str(i) + \".fits\"))\n",
    "os.remove(obs)"
   ]
  }
 ],
 "metadata": {
  "kernelspec": {
   "display_name": "cta_simulation",
   "language": "python",
   "name": "cta_simulation"
  },
  "language_info": {
   "codemirror_mode": {
    "name": "ipython",
    "version": 3
   },
   "file_extension": ".py",
   "mimetype": "text/x-python",
   "name": "python",
   "nbconvert_exporter": "python",
   "pygments_lexer": "ipython3",
   "version": "3.7.7"
  }
 },
 "nbformat": 4,
 "nbformat_minor": 5
}
