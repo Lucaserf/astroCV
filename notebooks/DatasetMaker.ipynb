{
 "cells": [
  {
   "cell_type": "code",
   "execution_count": 1,
   "id": "d03ced5c",
   "metadata": {},
   "outputs": [],
   "source": [
    "import os\n",
    "import ctools\n",
    "import numpy as np\n",
    "import random\n",
    "import math\n",
    "from astropy.io import fits\n",
    "from lxml import etree\n",
    "if not os.path.isdir('../data'):\n",
    "    os.mkdir('../data')\n",
    "if not os.path.isdir('../models/test'):\n",
    "    os.mkdir('../models/test')"
   ]
  },
  {
   "cell_type": "code",
   "execution_count": 2,
   "id": "acdee4cc",
   "metadata": {},
   "outputs": [],
   "source": [
    "def run_ctobssim(model, output,pointing = (83.6331, 22.5145), energy=(0.03, 5), time=(0, 1200), fov=5, caldb='prod3b-v2', irf='South_z40_0.5h', seed=1):\n",
    "    sim = ctools.ctobssim()\n",
    "    sim[\"inmodel\"] = model #inserisce un modello pre-esistente all'interno del tool di generazione mappe\n",
    "    sim[\"outevents\"] = output #estrae una mappa creata in estensione .fits\n",
    "    sim[\"caldb\"] = caldb #calibration database, inserito nella fase di configurazione come zip\n",
    "    sim[\"irf\"] = irf #Instrumental response function, mappa tra flusso di fotoni in ingresso e gli eventi detected\n",
    "    sim[\"ra\"] = pointing[0] #Right Ascension of CTA pointing (dove punta nello spazio il telescopio)\n",
    "    sim[\"dec\"] = pointing[1] #Declination of CTA pointing (dove punta nello spazio il telescopio)\n",
    "    sim[\"rad\"] = fov #field of view, simulation cone radius, 5 rad mi pare un botto\n",
    "    sim[\"tmin\"] = time[0] #start time\n",
    "    sim[\"tmax\"] = time[1] #stop time of the exposure\n",
    "    sim[\"emin\"] = energy[0] #Lower energy limit of simulated events (in TeV).\n",
    "    sim[\"emax\"] = energy[1] #Upper energy limit of simulated events (in TeV).\n",
    "    sim[\"seed\"] = seed #random number generator for the simulations with a seed value provided by the hidden seed parameter\n",
    "    sim.execute()\n",
    "    # if you want to run in memory:\n",
    "    #sim.run()\n",
    "    \n",
    "def run_skymap(obs, output, energy=(0.03, 5), roi=5, caldb='prod3b-v2', irf='North_z20_0.5h', wbin=0.02):\n",
    "    nbin = int(roi*2/wbin)\n",
    "    skymap = ctools.ctskymap()\n",
    "    skymap['inobs'] = obs\n",
    "    skymap['outmap'] = output\n",
    "    skymap['irf'] = irf \n",
    "    skymap['caldb'] = caldb #calibration database, inserito nella fase di configurazione come zip\n",
    "    skymap['emin'] = energy[0]\n",
    "    skymap['emax'] = energy[1]\n",
    "    skymap['usepnt'] = True #use pointing\n",
    "    skymap['nxpix'] = nbin #Size of the Right Ascension / Galactic longitude axis (in pixels).\n",
    "    skymap['nypix'] = nbin #Size of the Declination / Galactic latitude axis (in pixels).\n",
    "    skymap['binsz'] = wbin #Pixel size (in degrees/pixel).\n",
    "    skymap['bkgsubtract'] = 'IRF' #da testare 'NONE' o 'IRF'\n",
    "    skymap.execute()\n",
    "    # if you want to run in memory:\n",
    "    #sim.run()\n",
    "    \n",
    "def truncate(num, n):\n",
    "    integer = int(num * (10**n))/(10**n)\n",
    "    return float(integer)"
   ]
  },
  {
   "cell_type": "code",
   "execution_count": 3,
   "id": "5cbb9b35",
   "metadata": {},
   "outputs": [],
   "source": [
    "def modify_source_position(ra, dec, index):\n",
    "    tree = etree.parse('../models/group3.xml')\n",
    "    root = tree.getroot()\n",
    "    Ra = root[0][1][0]\n",
    "    Ra.set(\"value\", str(ra))\n",
    "    Dec = root[0][1][1]\n",
    "    Dec.set(\"value\", str(dec))\n",
    "    et = etree.ElementTree(root)\n",
    "    name = '../models/test/group3_' + str(index) + '.xml' \n",
    "    et.write(name, pretty_print=True)\n",
    "        \n",
    "def modify_two_source_position(ra, dec, index, ra2, dec2):\n",
    "    #find the second point in the xml file \n",
    "    tree = etree.parse('../models/crab2sources.xml')\n",
    "    root = tree.getroot()\n",
    "    Ra = root[0][1][0]\n",
    "    Ra.set(\"value\", str(ra))\n",
    "    Dec = root[0][1][1]\n",
    "    Dec.set(\"value\", str(dec))\n",
    "    #modify the value and write the model\n",
    "    Ra2 = root[1][1][0]\n",
    "    Ra2.set(\"value\", str(ra2))\n",
    "    Dec2 = root[1][1][1]\n",
    "    Dec2.set(\"value\", str(dec2))\n",
    "    et = etree.ElementTree(root)\n",
    "    name = '../models/test/crab2sources_' + str(index) + '.xml' \n",
    "    et.write(name, pretty_print=True)\n",
    "        "
   ]
  },
  {
   "cell_type": "code",
   "execution_count": 4,
   "id": "63cac5a5",
   "metadata": {
    "scrolled": true
   },
   "outputs": [],
   "source": [
    "def create_new_model(i, pointing, maxAng=4.5, twoPoints=\"false\"):\n",
    "    \n",
    "    #random with Module and Angle \n",
    "    angle = random.random() *2 *math.pi\n",
    "    cos = math.cos(angle)\n",
    "    sin = math.sin(angle)\n",
    "    mod = random.random()*maxAng\n",
    "\n",
    "    ra = pointing[0] + truncate(sin*mod,4)\n",
    "    dec = pointing[1] + truncate(cos*mod,4)\n",
    "    \n",
    "    if(twoPoints == \"true\"):\n",
    "        ipo = 0\n",
    "        while(ipo<2): #to modify ------------------------------------------\n",
    "            angle = random.random() *2 *math.pi\n",
    "            cos = math.cos(angle)\n",
    "            sin = math.sin(angle)\n",
    "            mod = random.random()*maxAng\n",
    "            \n",
    "            ra2 = pointing[0] + truncate(sin*mod,4)\n",
    "            dec2 = pointing[1] + truncate(cos*mod,4)\n",
    "            ipo = ((ra-ra2)**2 + (dec-dec2)**2)**1/2\n",
    "        modify_two_source_position(ra,dec,i,ra2,dec2)\n",
    "        \n",
    "    #richiamiamo la modifica e creazione di nuovi modelli coi parametri genrati pocanzi\n",
    "    modify_source_position(ra,dec,i)\n",
    "\n",
    "#tree = etree.parse('../models/crab4sigmas_new.xml')\n",
    "#root = tree.getroot()\n",
    "#print(etree.tostring(tree))"
   ]
  },
  {
   "cell_type": "markdown",
   "id": "b7e76c29",
   "metadata": {},
   "source": [
    "## Source simulation and map\n",
    "\n",
    "Before this step you should have modified the source model (i.e., crab.xml) with the correct prefactor. You can do so manually or use the provided class in <code>sagsci</code> package for which you can find an example in <code>4_update_source_model.ipynb</code>. For a shortcut I have provided in <code>models</code> folder a template source model with the correct Prefactor for a 4 sigmas simulation of the Crab Nebula. The suggestion is to never go below this value."
   ]
  },
  {
   "cell_type": "code",
   "execution_count": 10,
   "id": "2af7afaf",
   "metadata": {},
   "outputs": [],
   "source": [
    "count=1\n",
    "pointing = (83.6331, 22.5145)\n",
    "for i in range(count):\n",
    "    create_new_model(i,pointing)\n",
    "    model = '../models/test/group3_' + str(i) + '.xml'\n",
    "    run_ctobssim(model=model, output='../data/group3_sim.fits')\n",
    "    obs = '../data/group3_sim.fits'\n",
    "    run_skymap(obs=obs, output='../data/group3_sky_' + str(i) + '.fits')\n",
    "os.remove(obs)"
   ]
  },
  {
   "cell_type": "markdown",
   "id": "701b5d02",
   "metadata": {},
   "source": [
    "## Background simulation and map\n",
    "\n",
    "We can run the simulation of the background and then use the observation produced to run create the skymap. The simulation will be used in tutorial <code>3_find_prefactor.ipynb</code> to evaluate the background level and find the prefactor required to simulate a source with given significance. Alternatively you can used the template model <code>crab4sigmas.xml</code> in <code>models</code>. The skymap can be used as visual inspection of the simulation and as part of the training of the ML algorithm."
   ]
  },
  {
   "cell_type": "code",
   "execution_count": 9,
   "id": "a0a944ec",
   "metadata": {},
   "outputs": [],
   "source": [
    "count=10\n",
    "pointing = (83.6331, 22.5145)\n",
    "for i in range(count):\n",
    "    model = '../models/bkg_irf.xml'\n",
    "    run_ctobssim(model=model, output='../data/bkg_test_sim.fits',seed= int(random.random()*100))\n",
    "    obs = '../data/bkg_test_sim.fits'\n",
    "    run_skymap(obs=obs, output='../data/bkg_test_sky_' + str(i) + '.fits')\n",
    "os.remove(obs)"
   ]
  },
  {
   "cell_type": "code",
   "execution_count": 7,
   "id": "d8d33962",
   "metadata": {},
   "outputs": [],
   "source": [
    "count=10\n",
    "pointing = (83.6331, 22.5145)\n",
    "for i in range(count):\n",
    "    create_new_model(i,pointing,twoPoints=\"true\")\n",
    "    model = '../models/test/crab2sources_' + str(i) + '.xml'\n",
    "    run_ctobssim(model=model, output='../data/crab2sources_sim.fits')\n",
    "    obs = '../data/crab2sources_sim.fits'\n",
    "    run_skymap(obs=obs, output='../data/crab2sources_sky_' + str(i) + '.fits')\n",
    "os.remove(obs)"
   ]
  }
 ],
 "metadata": {
  "kernelspec": {
   "display_name": "cta_simulation",
   "language": "python",
   "name": "cta_simulation"
  },
  "language_info": {
   "codemirror_mode": {
    "name": "ipython",
    "version": 3
   },
   "file_extension": ".py",
   "mimetype": "text/x-python",
   "name": "python",
   "nbconvert_exporter": "python",
   "pygments_lexer": "ipython3",
   "version": "3.7.7"
  }
 },
 "nbformat": 4,
 "nbformat_minor": 5
}
