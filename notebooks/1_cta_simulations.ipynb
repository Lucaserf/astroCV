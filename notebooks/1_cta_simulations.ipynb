{
 "cells": [
  {
   "cell_type": "markdown",
   "metadata": {},
   "source": [
    "## CTA simulations\n",
    "\n",
    "First we import the libraries."
   ]
  },
  {
   "cell_type": "code",
   "execution_count": 14,
   "metadata": {},
   "outputs": [],
   "source": [
    "# import the required libraries\n",
    "import os\n",
    "import ctools\n",
    "import numpy as np"
   ]
  },
  {
   "cell_type": "markdown",
   "metadata": {},
   "source": [
    "We can make a folder to store the example data that will be created in this tutorial and used in the futher ones. "
   ]
  },
  {
   "cell_type": "code",
   "execution_count": 15,
   "metadata": {},
   "outputs": [],
   "source": [
    "if not os.path.isdir('../data'):\n",
    "    os.mkdir('../data')"
   ]
  },
  {
   "cell_type": "markdown",
   "metadata": {},
   "source": [
    "For simplicity let's make a wrapper of the ctools MC simulator. We can write a function with some default parameters in order to invoke it when needed."
   ]
  },
  {
   "cell_type": "code",
   "execution_count": 25,
   "metadata": {},
   "outputs": [],
   "source": [
    "#creazione simulazione\n",
    "def run_ctobssim(model, pointing, output, energy=(0.03, 150), time=(0, 1200), fov=5, caldb='prod3b-v2', irf='South_z40_0.5h', seed=1):\n",
    "    sim = ctools.ctobssim()\n",
    "    sim[\"inmodel\"] = model #inserisce un modello pre-esistente all'interno del tool di generazione mappe\n",
    "    sim[\"outevents\"] = output #estrae una mappa creata in estensione .fits\n",
    "    sim[\"caldb\"] = caldb #calibration database, inserito nella fase di configurazione come zip\n",
    "    sim[\"irf\"] = irf #Instrumental response function, mappa tra flusso di fotoni in ingresso e gli eventi detected\n",
    "    sim[\"ra\"] = pointing[0] #Right Ascension of CTA pointing (dove punta nello spazio il telescopio)\n",
    "    sim[\"dec\"] = pointing[1] #Declination of CTA pointing (dove punta nello spazio il telescopio)\n",
    "    sim[\"rad\"] = fov #field of view, simulation cone radius, 5 rad mi pare un botto\n",
    "    sim[\"tmin\"] = time[0] #start time\n",
    "    sim[\"tmax\"] = time[1] #stop time of the exposure\n",
    "    sim[\"emin\"] = energy[0] #Lower energy limit of simulated events (in TeV).\n",
    "    sim[\"emax\"] = energy[1] #Upper energy limit of simulated events (in TeV).\n",
    "    sim[\"seed\"] = seed #random number generator for the simulations with a seed value provided by the hidden seed parameter\n",
    "    sim.execute()\n",
    "    # if you want to run in memory:\n",
    "    #sim.run()"
   ]
  },
  {
   "cell_type": "markdown",
   "metadata": {},
   "source": [
    "The same thing we do with the tool that produces the skymaps, we make a wrapping function to call at our need."
   ]
  },
  {
   "cell_type": "code",
   "execution_count": 27,
   "metadata": {},
   "outputs": [],
   "source": [
    "def run_skymap(obs, output, energy=(0.03, 150), roi=5, caldb='prod3b-v2', irf='South_z40_0.5h', wbin=0.02):\n",
    "    nbin = int(roi*2/wbin)\n",
    "    skymap = ctools.ctskymap()\n",
    "    skymap['inobs'] = obs\n",
    "    skymap['outmap'] = output\n",
    "    skymap['irf'] = irf \n",
    "    skymap['caldb'] = caldb #calibration database, inserito nella fase di configurazione come zip\n",
    "    skymap['emin'] = energy[0]\n",
    "    skymap['emax'] = energy[1]\n",
    "    skymap['usepnt'] = True #use pointing\n",
    "    skymap['nxpix'] = nbin #Size of the Right Ascension / Galactic longitude axis (in pixels).\n",
    "    skymap['nypix'] = nbin #Size of the Declination / Galactic latitude axis (in pixels).\n",
    "    skymap['binsz'] = wbin #Pixel size (in degrees/pixel).\n",
    "    skymap['bkgsubtract'] = 'IRF' #da testare 'NONE' o 'IRF'\n",
    "    skymap.execute()\n",
    "    # if you want to run in memory:\n",
    "    #sim.run()"
   ]
  },
  {
   "cell_type": "markdown",
   "metadata": {},
   "source": [
    "Let's fix the pointing."
   ]
  },
  {
   "cell_type": "code",
   "execution_count": 18,
   "metadata": {},
   "outputs": [],
   "source": [
    "pointing = (83.6331, 22.5145) #dove si trova l'evento di interesse"
   ]
  },
  {
   "cell_type": "markdown",
   "metadata": {},
   "source": [
    "## Background simulation and map\n",
    "\n",
    "We can run the simulation of the background and then use the observation produced to run create the skymap. The simulation will be used in tutorial <code>3_find_prefactor.ipynb</code> to evaluate the background level and find the prefactor required to simulate a source with given significance. Alternatively you can used the template model <code>crab4sigmas.xml</code> in <code>models</code>. The skymap can be used as visual inspection of the simulation and as part of the training of the ML algorithm."
   ]
  },
  {
   "cell_type": "code",
   "execution_count": 28,
   "metadata": {},
   "outputs": [],
   "source": [
    "model = '../models/bkg_irf.xml'\n",
    "run_ctobssim(model=model, pointing=pointing, output='../data/bkg_test_sim.fits')\n",
    "obs = '../data/bkg_test_sim.fits'\n",
    "run_skymap(obs=obs, output='../data/bkg_test_sky.fits')"
   ]
  },
  {
   "cell_type": "markdown",
   "metadata": {},
   "source": [
    "## Source simulation and map\n",
    "\n",
    "Before this step you should have modified the source model (i.e., crab.xml) with the correct prefactor. You can do so manually or use the provided class in <code>sagsci</code> package for which you can find an example in <code>4_update_source_model.ipynb</code>. For a shortcut I have provided in <code>models</code> folder a template source model with the correct Prefactor for a 4 sigmas simulation of the Crab Nebula. The suggestion is to never go below this value."
   ]
  },
  {
   "cell_type": "code",
   "execution_count": 28,
   "metadata": {},
   "outputs": [],
   "source": [
    "model = '../models/crab4sigmas.xml'\n",
    "run_ctobssim(model=model, pointing=pointing, output='../data/crab_test_sim.fits')\n",
    "obs = '../data/crab_test_sim.fits'\n",
    "run_skymap(obs=obs, output='../data/crab_test_sky_3.fits')"
   ]
  },
  {
   "cell_type": "markdown",
   "metadata": {},
   "source": []
  }
 ],
 "metadata": {
  "interpreter": {
   "hash": "00f72d6c53b361534d1968275eaeaf22ef7f6237584dbcad85cb621b442672d3"
  },
  "kernelspec": {
   "display_name": "cta_simulation",
   "language": "python",
   "name": "cta_simulation"
  },
  "language_info": {
   "codemirror_mode": {
    "name": "ipython",
    "version": 3
   },
   "file_extension": ".py",
   "mimetype": "text/x-python",
   "name": "python",
   "nbconvert_exporter": "python",
   "pygments_lexer": "ipython3",
   "version": "3.7.7"
  }
 },
 "nbformat": 4,
 "nbformat_minor": 2
}
