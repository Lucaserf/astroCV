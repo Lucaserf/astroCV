{
 "cells": [
  {
   "cell_type": "code",
   "execution_count": 1,
   "metadata": {},
   "outputs": [],
   "source": [
    "import os\n",
    "import ctools\n",
    "import numpy as np\n",
    "import random\n",
    "from astropy.io import fits\n",
    "from lxml import etree\n",
    "if not os.path.isdir('../data'):\n",
    "    os.mkdir('../data')\n",
    "if not os.path.isdir('../models/test'):\n",
    "    os.mkdir('../models/test')"
   ]
  },
  {
   "cell_type": "code",
   "execution_count": 2,
   "metadata": {},
   "outputs": [],
   "source": [
    "def run_ctobssim(model, output,pointing = (83.6331, 22.5145), energy=(0.03, 150), time=(0, 1200), fov=5, caldb='prod3b-v2', irf='South_z40_0.5h', seed=1):\n",
    "    sim = ctools.ctobssim()\n",
    "    sim[\"inmodel\"] = model #inserisce un modello pre-esistente all'interno del tool di generazione mappe\n",
    "    sim[\"outevents\"] = output #estrae una mappa creata in estensione .fits\n",
    "    sim[\"caldb\"] = caldb #calibration database, inserito nella fase di configurazione come zip\n",
    "    sim[\"irf\"] = irf #Instrumental response function, mappa tra flusso di fotoni in ingresso e gli eventi detected\n",
    "    sim[\"ra\"] = pointing[0] #Right Ascension of CTA pointing (dove punta nello spazio il telescopio)\n",
    "    sim[\"dec\"] = pointing[1] #Declination of CTA pointing (dove punta nello spazio il telescopio)\n",
    "    sim[\"rad\"] = fov #field of view, simulation cone radius, 5 rad mi pare un botto\n",
    "    sim[\"tmin\"] = time[0] #start time\n",
    "    sim[\"tmax\"] = time[1] #stop time of the exposure\n",
    "    sim[\"emin\"] = energy[0] #Lower energy limit of simulated events (in TeV).\n",
    "    sim[\"emax\"] = energy[1] #Upper energy limit of simulated events (in TeV).\n",
    "    sim[\"seed\"] = seed #random number generator for the simulations with a seed value provided by the hidden seed parameter\n",
    "    sim.execute()\n",
    "    # if you want to run in memory:\n",
    "    #sim.run()\n",
    "    \n",
    "def run_skymap(obs, output, energy=(0.03, 150), roi=5, caldb='prod3b-v2', irf='South_z40_0.5h', wbin=0.02):\n",
    "    nbin = int(roi*2/wbin)\n",
    "    skymap = ctools.ctskymap()\n",
    "    skymap['inobs'] = obs\n",
    "    skymap['outmap'] = output\n",
    "    skymap['irf'] = irf \n",
    "    skymap['caldb'] = caldb #calibration database, inserito nella fase di configurazione come zip\n",
    "    skymap['emin'] = energy[0]\n",
    "    skymap['emax'] = energy[1]\n",
    "    skymap['usepnt'] = True #use pointing\n",
    "    skymap['nxpix'] = nbin #Size of the Right Ascension / Galactic longitude axis (in pixels).\n",
    "    skymap['nypix'] = nbin #Size of the Declination / Galactic latitude axis (in pixels).\n",
    "    skymap['binsz'] = wbin #Pixel size (in degrees/pixel).\n",
    "    skymap['bkgsubtract'] = 'IRF' #da testare 'NONE' o 'IRF'\n",
    "    skymap.execute()\n",
    "    # if you want to run in memory:\n",
    "    #sim.run()\n",
    "    \n",
    "def truncate(num, n):\n",
    "    integer = int(num * (10**n))/(10**n)\n",
    "    return float(integer)"
   ]
  },
  {
   "cell_type": "markdown",
   "metadata": {},
   "source": [
    "## Background simulation and map\n",
    "\n",
    "We can run the simulation of the background and then use the observation produced to run create the skymap. The simulation will be used in tutorial <code>3_find_prefactor.ipynb</code> to evaluate the background level and find the prefactor required to simulate a source with given significance. Alternatively you can used the template model <code>crab4sigmas.xml</code> in <code>models</code>. The skymap can be used as visual inspection of the simulation and as part of the training of the ML algorithm."
   ]
  },
  {
   "cell_type": "code",
   "execution_count": 3,
   "metadata": {},
   "outputs": [],
   "source": [
    "#model = '../models/bkg_irf.xml'\n",
    "#run_ctobssim(model=model, output='../data/bkg_test_sim.fits')\n",
    "#obs = '../data/bkg_test_sim.fits'\n",
    "#run_skymap(obs=obs, output='../data/bkg_test_sky.fits')"
   ]
  },
  {
   "cell_type": "markdown",
   "metadata": {},
   "source": [
    "## Source simulation and map\n",
    "\n",
    "Before this step you should have modified the source model (i.e., crab.xml) with the correct prefactor. You can do so manually or use the provided class in <code>sagsci</code> package for which you can find an example in <code>4_update_source_model.ipynb</code>. For a shortcut I have provided in <code>models</code> folder a template source model with the correct Prefactor for a 4 sigmas simulation of the Crab Nebula. The suggestion is to never go below this value."
   ]
  },
  {
   "cell_type": "code",
   "execution_count": 4,
   "metadata": {},
   "outputs": [],
   "source": [
    "#model = '../models/crab4sigmas.xml'\n",
    "#run_ctobssim(model=model, output='../data/crab_test_sim.fits')\n",
    "#obs = '../data/crab_test_sim.fits'\n",
    "#run_skymap(obs=obs, output='../data/crab_test_sky.fits')"
   ]
  },
  {
   "cell_type": "code",
   "execution_count": 5,
   "metadata": {},
   "outputs": [],
   "source": [
    "def modify_source_position(ra, dec, index):\n",
    "    tree = etree.parse('../models/crab4sigmas.xml')\n",
    "    root = tree.getroot()\n",
    "    Ra = root[0][1][0]\n",
    "    Ra.set(\"value\", str(ra))\n",
    "    Dec = root[0][1][1]\n",
    "    Dec.set(\"value\", str(dec))\n",
    "    et = etree.ElementTree(root)\n",
    "    name = '../models/test/crab4sigmas_' + str(index) + '.xml' \n",
    "    et.write(name, pretty_print=True)"
   ]
  },
  {
   "cell_type": "code",
   "execution_count": 6,
   "metadata": {
    "scrolled": true
   },
   "outputs": [],
   "source": [
    "def create_new_model(i, pointing, maxAng=4.5):\n",
    "    #random di ra\n",
    "    dRa = ((random.random()*2) -1) * maxAng\n",
    "    #restante per dec\n",
    "    left = (maxAng**2 - dRa**2)**(1/2)\n",
    "    #random in dec\n",
    "    dDec = ((random.random()*2) -1) * left\n",
    "\n",
    "    #pointing = (83.6331, 22.5145)\n",
    "    ra = pointing[0] + truncate(dRa,4)\n",
    "    dec = pointing[1] + truncate(dDec,4)\n",
    "\n",
    "    #richiamiamo la modifica e creazione di nuovi modelli coi parametri genrati pocanzi\n",
    "    modify_source_position(ra,dec,i)\n",
    "        \n",
    "#tree = etree.parse('../models/crab4sigmas_new.xml')\n",
    "#root = tree.getroot()\n",
    "#print(etree.tostring(tree))"
   ]
  },
  {
   "cell_type": "code",
   "execution_count": 7,
   "metadata": {},
   "outputs": [],
   "source": [
    "count=5\n",
    "pointing = (83.6331, 22.5145)\n",
    "for i in range(count):\n",
    "    create_new_model(i,pointing)\n",
    "    model = '../models/test/crab4sigmas_' + str(i) + '.xml'\n",
    "    run_ctobssim(model=model, output='../data/crab_test_sim.fits')\n",
    "    obs = '../data/crab_test_sim.fits'\n",
    "    run_skymap(obs=obs, output='../data/crab_test_sky_' + str(i) + '.fits')"
   ]
  }
 ],
 "metadata": {
  "kernelspec": {
   "display_name": "Python 3",
   "language": "python",
   "name": "python3"
  },
  "language_info": {
   "codemirror_mode": {
    "name": "ipython",
    "version": 3
   },
   "file_extension": ".py",
   "mimetype": "text/x-python",
   "name": "python",
   "nbconvert_exporter": "python",
   "pygments_lexer": "ipython3",
   "version": "3.7.4"
  }
 },
 "nbformat": 4,
 "nbformat_minor": 5
}
